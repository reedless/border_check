{
 "cells": [
  {
   "cell_type": "code",
   "execution_count": 1,
   "id": "80d4e838",
   "metadata": {},
   "outputs": [
    {
     "name": "stdout",
     "output_type": "stream",
     "text": [
      "True\n"
     ]
    }
   ],
   "source": [
    "import torch\n",
    "print(torch.cuda.is_available())"
   ]
  },
  {
   "cell_type": "code",
   "execution_count": 3,
   "id": "3ec11460",
   "metadata": {
    "scrolled": true
   },
   "outputs": [],
   "source": [
    "from detecto import core, utils, visualize\n",
    "from detecto.visualize import show_labeled_image, plot_prediction_grid\n",
    "from torchvision import transforms\n",
    "import matplotlib.pyplot as plt\n",
    "import numpy as np"
   ]
  },
  {
   "cell_type": "markdown",
   "id": "66adee52",
   "metadata": {},
   "source": [
    "## Image augmentation"
   ]
  },
  {
   "cell_type": "code",
   "execution_count": 4,
   "id": "68b72748",
   "metadata": {},
   "outputs": [],
   "source": [
    "# custom_transforms = transforms.Compose([\n",
    "# transforms.ToPILImage(),\n",
    "# transforms.Resize(900),\n",
    "# transforms.RandomHorizontalFlip(0.5),\n",
    "# transforms.ColorJitter(saturation=0.2),\n",
    "# transforms.ToTensor(),\n",
    "# utils.normalize_transform(),\n",
    "# ])"
   ]
  },
  {
   "cell_type": "markdown",
   "id": "cb291c1f",
   "metadata": {},
   "source": [
    "## Model Training"
   ]
  },
  {
   "cell_type": "code",
   "execution_count": 5,
   "id": "ab2dcc69",
   "metadata": {},
   "outputs": [],
   "source": [
    "dataset_dir   = '../all_border_dataset_2000_annotations_split'\n",
    "train_dataset = core.Dataset(f'{dataset_dir}/train/')\n",
    "val_dataset   = core.Dataset(f'{dataset_dir}/val/')"
   ]
  },
  {
   "cell_type": "code",
   "execution_count": 6,
   "id": "59112394",
   "metadata": {
    "scrolled": false
   },
   "outputs": [
    {
     "name": "stderr",
     "output_type": "stream",
     "text": [
      "\r",
      "  0%|                                                                                            | 0/73 [00:00<?, ?it/s]"
     ]
    },
    {
     "name": "stdout",
     "output_type": "stream",
     "text": [
      "Epoch 1 of 25\n",
      "Begin iterating over training dataset\n"
     ]
    },
    {
     "name": "stderr",
     "output_type": "stream",
     "text": [
      "100%|███████████████████████████████████████████████████████████████████████████████████| 73/73 [06:08<00:00,  5.05s/it]\n",
      "  0%|                                                                                            | 0/18 [00:00<?, ?it/s]"
     ]
    },
    {
     "name": "stdout",
     "output_type": "stream",
     "text": [
      "Begin iterating over validation dataset\n"
     ]
    },
    {
     "name": "stderr",
     "output_type": "stream",
     "text": [
      "100%|███████████████████████████████████████████████████████████████████████████████████| 18/18 [00:21<00:00,  1.18s/it]\n",
      "  0%|                                                                                            | 0/73 [00:00<?, ?it/s]"
     ]
    },
    {
     "name": "stdout",
     "output_type": "stream",
     "text": [
      "Loss: 0.8939009855190913\n",
      "Epoch 2 of 25\n",
      "Begin iterating over training dataset\n"
     ]
    },
    {
     "name": "stderr",
     "output_type": "stream",
     "text": [
      "100%|███████████████████████████████████████████████████████████████████████████████████| 73/73 [06:28<00:00,  5.32s/it]\n",
      "  0%|                                                                                            | 0/18 [00:00<?, ?it/s]"
     ]
    },
    {
     "name": "stdout",
     "output_type": "stream",
     "text": [
      "Begin iterating over validation dataset\n"
     ]
    },
    {
     "name": "stderr",
     "output_type": "stream",
     "text": [
      "100%|███████████████████████████████████████████████████████████████████████████████████| 18/18 [00:21<00:00,  1.20s/it]\n",
      "  0%|                                                                                            | 0/73 [00:00<?, ?it/s]"
     ]
    },
    {
     "name": "stdout",
     "output_type": "stream",
     "text": [
      "Loss: 0.7189719561073515\n",
      "Epoch 3 of 25\n",
      "Begin iterating over training dataset\n"
     ]
    },
    {
     "name": "stderr",
     "output_type": "stream",
     "text": [
      "100%|███████████████████████████████████████████████████████████████████████████████████| 73/73 [05:58<00:00,  4.91s/it]\n",
      "  0%|                                                                                            | 0/18 [00:00<?, ?it/s]"
     ]
    },
    {
     "name": "stdout",
     "output_type": "stream",
     "text": [
      "Begin iterating over validation dataset\n"
     ]
    },
    {
     "name": "stderr",
     "output_type": "stream",
     "text": [
      "100%|███████████████████████████████████████████████████████████████████████████████████| 18/18 [00:21<00:00,  1.21s/it]\n",
      "  0%|                                                                                            | 0/73 [00:00<?, ?it/s]"
     ]
    },
    {
     "name": "stdout",
     "output_type": "stream",
     "text": [
      "Loss: 0.6926192061768638\n",
      "Epoch 4 of 25\n",
      "Begin iterating over training dataset\n"
     ]
    },
    {
     "name": "stderr",
     "output_type": "stream",
     "text": [
      "100%|███████████████████████████████████████████████████████████████████████████████████| 73/73 [05:58<00:00,  4.91s/it]\n",
      "  0%|                                                                                            | 0/18 [00:00<?, ?it/s]"
     ]
    },
    {
     "name": "stdout",
     "output_type": "stream",
     "text": [
      "Begin iterating over validation dataset\n"
     ]
    },
    {
     "name": "stderr",
     "output_type": "stream",
     "text": [
      "100%|███████████████████████████████████████████████████████████████████████████████████| 18/18 [00:20<00:00,  1.16s/it]\n",
      "  0%|                                                                                            | 0/73 [00:00<?, ?it/s]"
     ]
    },
    {
     "name": "stdout",
     "output_type": "stream",
     "text": [
      "Loss: 0.6459682856996855\n",
      "Epoch 5 of 25\n",
      "Begin iterating over training dataset\n"
     ]
    },
    {
     "name": "stderr",
     "output_type": "stream",
     "text": [
      "100%|███████████████████████████████████████████████████████████████████████████████████| 73/73 [05:58<00:00,  4.91s/it]\n",
      "  0%|                                                                                            | 0/18 [00:00<?, ?it/s]"
     ]
    },
    {
     "name": "stdout",
     "output_type": "stream",
     "text": [
      "Begin iterating over validation dataset\n"
     ]
    },
    {
     "name": "stderr",
     "output_type": "stream",
     "text": [
      "100%|███████████████████████████████████████████████████████████████████████████████████| 18/18 [00:20<00:00,  1.16s/it]\n",
      "  0%|                                                                                            | 0/73 [00:00<?, ?it/s]"
     ]
    },
    {
     "name": "stdout",
     "output_type": "stream",
     "text": [
      "Loss: 0.7256332768334283\n",
      "Epoch 6 of 25\n",
      "Begin iterating over training dataset\n"
     ]
    },
    {
     "name": "stderr",
     "output_type": "stream",
     "text": [
      "100%|███████████████████████████████████████████████████████████████████████████████████| 73/73 [05:57<00:00,  4.90s/it]\n",
      "  0%|                                                                                            | 0/18 [00:00<?, ?it/s]"
     ]
    },
    {
     "name": "stdout",
     "output_type": "stream",
     "text": [
      "Begin iterating over validation dataset\n"
     ]
    },
    {
     "name": "stderr",
     "output_type": "stream",
     "text": [
      "100%|███████████████████████████████████████████████████████████████████████████████████| 18/18 [00:20<00:00,  1.16s/it]\n",
      "  0%|                                                                                            | 0/73 [00:00<?, ?it/s]"
     ]
    },
    {
     "name": "stdout",
     "output_type": "stream",
     "text": [
      "Loss: 0.5905930755866898\n",
      "Epoch 7 of 25\n",
      "Begin iterating over training dataset\n"
     ]
    },
    {
     "name": "stderr",
     "output_type": "stream",
     "text": [
      "100%|███████████████████████████████████████████████████████████████████████████████████| 73/73 [05:57<00:00,  4.90s/it]\n",
      "  0%|                                                                                            | 0/18 [00:00<?, ?it/s]"
     ]
    },
    {
     "name": "stdout",
     "output_type": "stream",
     "text": [
      "Begin iterating over validation dataset\n"
     ]
    },
    {
     "name": "stderr",
     "output_type": "stream",
     "text": [
      "100%|███████████████████████████████████████████████████████████████████████████████████| 18/18 [00:20<00:00,  1.16s/it]\n",
      "  0%|                                                                                            | 0/73 [00:00<?, ?it/s]"
     ]
    },
    {
     "name": "stdout",
     "output_type": "stream",
     "text": [
      "Loss: 0.5940077147550054\n",
      "Epoch 8 of 25\n",
      "Begin iterating over training dataset\n"
     ]
    },
    {
     "name": "stderr",
     "output_type": "stream",
     "text": [
      "100%|███████████████████████████████████████████████████████████████████████████████████| 73/73 [05:56<00:00,  4.88s/it]\n",
      "  0%|                                                                                            | 0/18 [00:00<?, ?it/s]"
     ]
    },
    {
     "name": "stdout",
     "output_type": "stream",
     "text": [
      "Begin iterating over validation dataset\n"
     ]
    },
    {
     "name": "stderr",
     "output_type": "stream",
     "text": [
      "100%|███████████████████████████████████████████████████████████████████████████████████| 18/18 [00:20<00:00,  1.16s/it]\n",
      "  0%|                                                                                            | 0/73 [00:00<?, ?it/s]"
     ]
    },
    {
     "name": "stdout",
     "output_type": "stream",
     "text": [
      "Loss: 0.566945843398571\n",
      "Epoch 9 of 25\n",
      "Begin iterating over training dataset\n"
     ]
    },
    {
     "name": "stderr",
     "output_type": "stream",
     "text": [
      "100%|███████████████████████████████████████████████████████████████████████████████████| 73/73 [05:58<00:00,  4.91s/it]\n",
      "  0%|                                                                                            | 0/18 [00:00<?, ?it/s]"
     ]
    },
    {
     "name": "stdout",
     "output_type": "stream",
     "text": [
      "Begin iterating over validation dataset\n"
     ]
    },
    {
     "name": "stderr",
     "output_type": "stream",
     "text": [
      "100%|███████████████████████████████████████████████████████████████████████████████████| 18/18 [00:20<00:00,  1.16s/it]\n",
      "  0%|                                                                                            | 0/73 [00:00<?, ?it/s]"
     ]
    },
    {
     "name": "stdout",
     "output_type": "stream",
     "text": [
      "Loss: 0.5750598278310564\n",
      "Epoch 10 of 25\n",
      "Begin iterating over training dataset\n"
     ]
    },
    {
     "name": "stderr",
     "output_type": "stream",
     "text": [
      "100%|███████████████████████████████████████████████████████████████████████████████████| 73/73 [05:58<00:00,  4.91s/it]\n",
      "  0%|                                                                                            | 0/18 [00:00<?, ?it/s]"
     ]
    },
    {
     "name": "stdout",
     "output_type": "stream",
     "text": [
      "Begin iterating over validation dataset\n"
     ]
    },
    {
     "name": "stderr",
     "output_type": "stream",
     "text": [
      "100%|███████████████████████████████████████████████████████████████████████████████████| 18/18 [00:20<00:00,  1.16s/it]\n",
      "  0%|                                                                                            | 0/73 [00:00<?, ?it/s]"
     ]
    },
    {
     "name": "stdout",
     "output_type": "stream",
     "text": [
      "Loss: 0.576441899769836\n",
      "Epoch 11 of 25\n",
      "Begin iterating over training dataset\n"
     ]
    },
    {
     "name": "stderr",
     "output_type": "stream",
     "text": [
      "100%|███████████████████████████████████████████████████████████████████████████████████| 73/73 [05:58<00:00,  4.90s/it]\n",
      "  0%|                                                                                            | 0/18 [00:00<?, ?it/s]"
     ]
    },
    {
     "name": "stdout",
     "output_type": "stream",
     "text": [
      "Begin iterating over validation dataset\n"
     ]
    },
    {
     "name": "stderr",
     "output_type": "stream",
     "text": [
      "100%|███████████████████████████████████████████████████████████████████████████████████| 18/18 [00:20<00:00,  1.17s/it]\n",
      "  0%|                                                                                            | 0/73 [00:00<?, ?it/s]"
     ]
    },
    {
     "name": "stdout",
     "output_type": "stream",
     "text": [
      "Loss: 0.5742711996038755\n",
      "Epoch 12 of 25\n",
      "Begin iterating over training dataset\n"
     ]
    },
    {
     "name": "stderr",
     "output_type": "stream",
     "text": [
      "100%|███████████████████████████████████████████████████████████████████████████████████| 73/73 [04:55<00:00,  4.05s/it]\n",
      "  0%|                                                                                            | 0/18 [00:00<?, ?it/s]"
     ]
    },
    {
     "name": "stdout",
     "output_type": "stream",
     "text": [
      "Begin iterating over validation dataset\n"
     ]
    },
    {
     "name": "stderr",
     "output_type": "stream",
     "text": [
      "100%|███████████████████████████████████████████████████████████████████████████████████| 18/18 [00:07<00:00,  2.39it/s]\n",
      "  0%|                                                                                            | 0/73 [00:00<?, ?it/s]"
     ]
    },
    {
     "name": "stdout",
     "output_type": "stream",
     "text": [
      "Loss: 0.5657759383320808\n",
      "Epoch 13 of 25\n",
      "Begin iterating over training dataset\n"
     ]
    },
    {
     "name": "stderr",
     "output_type": "stream",
     "text": [
      "100%|███████████████████████████████████████████████████████████████████████████████████| 73/73 [04:39<00:00,  3.82s/it]\n",
      "  0%|                                                                                            | 0/18 [00:00<?, ?it/s]"
     ]
    },
    {
     "name": "stdout",
     "output_type": "stream",
     "text": [
      "Begin iterating over validation dataset\n"
     ]
    },
    {
     "name": "stderr",
     "output_type": "stream",
     "text": [
      "100%|███████████████████████████████████████████████████████████████████████████████████| 18/18 [00:21<00:00,  1.20s/it]\n",
      "  0%|                                                                                            | 0/73 [00:00<?, ?it/s]"
     ]
    },
    {
     "name": "stdout",
     "output_type": "stream",
     "text": [
      "Loss: 0.5674163897832235\n",
      "Epoch 14 of 25\n",
      "Begin iterating over training dataset\n"
     ]
    },
    {
     "name": "stderr",
     "output_type": "stream",
     "text": [
      "100%|███████████████████████████████████████████████████████████████████████████████████| 73/73 [06:01<00:00,  4.96s/it]\n",
      "  0%|                                                                                            | 0/18 [00:00<?, ?it/s]"
     ]
    },
    {
     "name": "stdout",
     "output_type": "stream",
     "text": [
      "Begin iterating over validation dataset\n"
     ]
    },
    {
     "name": "stderr",
     "output_type": "stream",
     "text": [
      "100%|███████████████████████████████████████████████████████████████████████████████████| 18/18 [00:21<00:00,  1.18s/it]\n",
      "  0%|                                                                                            | 0/73 [00:00<?, ?it/s]"
     ]
    },
    {
     "name": "stdout",
     "output_type": "stream",
     "text": [
      "Loss: 0.5706990311543146\n",
      "Epoch 15 of 25\n",
      "Begin iterating over training dataset\n"
     ]
    },
    {
     "name": "stderr",
     "output_type": "stream",
     "text": [
      "100%|███████████████████████████████████████████████████████████████████████████████████| 73/73 [06:02<00:00,  4.96s/it]\n",
      "  0%|                                                                                            | 0/18 [00:00<?, ?it/s]"
     ]
    },
    {
     "name": "stdout",
     "output_type": "stream",
     "text": [
      "Begin iterating over validation dataset\n"
     ]
    },
    {
     "name": "stderr",
     "output_type": "stream",
     "text": [
      "100%|███████████████████████████████████████████████████████████████████████████████████| 18/18 [00:21<00:00,  1.18s/it]\n",
      "  0%|                                                                                            | 0/73 [00:00<?, ?it/s]"
     ]
    },
    {
     "name": "stdout",
     "output_type": "stream",
     "text": [
      "Loss: 0.5675841238763597\n",
      "Epoch 16 of 25\n",
      "Begin iterating over training dataset\n"
     ]
    },
    {
     "name": "stderr",
     "output_type": "stream",
     "text": [
      "100%|███████████████████████████████████████████████████████████████████████████████████| 73/73 [06:03<00:00,  4.98s/it]\n",
      "  0%|                                                                                            | 0/18 [00:00<?, ?it/s]"
     ]
    },
    {
     "name": "stdout",
     "output_type": "stream",
     "text": [
      "Begin iterating over validation dataset\n"
     ]
    },
    {
     "name": "stderr",
     "output_type": "stream",
     "text": [
      "100%|███████████████████████████████████████████████████████████████████████████████████| 18/18 [00:21<00:00,  1.19s/it]\n",
      "  0%|                                                                                            | 0/73 [00:00<?, ?it/s]"
     ]
    },
    {
     "name": "stdout",
     "output_type": "stream",
     "text": [
      "Loss: 0.560573172238138\n",
      "Epoch 17 of 25\n",
      "Begin iterating over training dataset\n"
     ]
    },
    {
     "name": "stderr",
     "output_type": "stream",
     "text": [
      "100%|███████████████████████████████████████████████████████████████████████████████████| 73/73 [05:59<00:00,  4.92s/it]\n",
      "  0%|                                                                                            | 0/18 [00:00<?, ?it/s]"
     ]
    },
    {
     "name": "stdout",
     "output_type": "stream",
     "text": [
      "Begin iterating over validation dataset\n"
     ]
    },
    {
     "name": "stderr",
     "output_type": "stream",
     "text": [
      "100%|███████████████████████████████████████████████████████████████████████████████████| 18/18 [00:21<00:00,  1.19s/it]\n",
      "  0%|                                                                                            | 0/73 [00:00<?, ?it/s]"
     ]
    },
    {
     "name": "stdout",
     "output_type": "stream",
     "text": [
      "Loss: 0.5597739625308249\n",
      "Epoch 18 of 25\n",
      "Begin iterating over training dataset\n"
     ]
    },
    {
     "name": "stderr",
     "output_type": "stream",
     "text": [
      "100%|███████████████████████████████████████████████████████████████████████████████████| 73/73 [06:02<00:00,  4.97s/it]\n",
      "  0%|                                                                                            | 0/18 [00:00<?, ?it/s]"
     ]
    },
    {
     "name": "stdout",
     "output_type": "stream",
     "text": [
      "Begin iterating over validation dataset\n"
     ]
    },
    {
     "name": "stderr",
     "output_type": "stream",
     "text": [
      "100%|███████████████████████████████████████████████████████████████████████████████████| 18/18 [00:21<00:00,  1.18s/it]\n",
      "  0%|                                                                                            | 0/73 [00:00<?, ?it/s]"
     ]
    },
    {
     "name": "stdout",
     "output_type": "stream",
     "text": [
      "Loss: 0.5685196767250696\n",
      "Epoch 19 of 25\n",
      "Begin iterating over training dataset\n"
     ]
    },
    {
     "name": "stderr",
     "output_type": "stream",
     "text": [
      "100%|███████████████████████████████████████████████████████████████████████████████████| 73/73 [06:00<00:00,  4.94s/it]\n",
      "  0%|                                                                                            | 0/18 [00:00<?, ?it/s]"
     ]
    },
    {
     "name": "stdout",
     "output_type": "stream",
     "text": [
      "Begin iterating over validation dataset\n"
     ]
    },
    {
     "name": "stderr",
     "output_type": "stream",
     "text": [
      "100%|███████████████████████████████████████████████████████████████████████████████████| 18/18 [00:21<00:00,  1.18s/it]\n",
      "  0%|                                                                                            | 0/73 [00:00<?, ?it/s]"
     ]
    },
    {
     "name": "stdout",
     "output_type": "stream",
     "text": [
      "Loss: 0.560178994304604\n",
      "Epoch 20 of 25\n",
      "Begin iterating over training dataset\n"
     ]
    },
    {
     "name": "stderr",
     "output_type": "stream",
     "text": [
      "100%|███████████████████████████████████████████████████████████████████████████████████| 73/73 [06:00<00:00,  4.94s/it]\n",
      "  0%|                                                                                            | 0/18 [00:00<?, ?it/s]"
     ]
    },
    {
     "name": "stdout",
     "output_type": "stream",
     "text": [
      "Begin iterating over validation dataset\n"
     ]
    },
    {
     "name": "stderr",
     "output_type": "stream",
     "text": [
      "100%|███████████████████████████████████████████████████████████████████████████████████| 18/18 [00:21<00:00,  1.18s/it]\n",
      "  0%|                                                                                            | 0/73 [00:00<?, ?it/s]"
     ]
    },
    {
     "name": "stdout",
     "output_type": "stream",
     "text": [
      "Loss: 0.5601806673738692\n",
      "Epoch 21 of 25\n",
      "Begin iterating over training dataset\n"
     ]
    },
    {
     "name": "stderr",
     "output_type": "stream",
     "text": [
      "100%|███████████████████████████████████████████████████████████████████████████████████| 73/73 [06:00<00:00,  4.94s/it]\n",
      "  0%|                                                                                            | 0/18 [00:00<?, ?it/s]"
     ]
    },
    {
     "name": "stdout",
     "output_type": "stream",
     "text": [
      "Begin iterating over validation dataset\n"
     ]
    },
    {
     "name": "stderr",
     "output_type": "stream",
     "text": [
      "100%|███████████████████████████████████████████████████████████████████████████████████| 18/18 [00:21<00:00,  1.18s/it]\n",
      "  0%|                                                                                            | 0/73 [00:00<?, ?it/s]"
     ]
    },
    {
     "name": "stdout",
     "output_type": "stream",
     "text": [
      "Loss: 0.5573988523748186\n",
      "Epoch 22 of 25\n",
      "Begin iterating over training dataset\n"
     ]
    },
    {
     "name": "stderr",
     "output_type": "stream",
     "text": [
      "100%|███████████████████████████████████████████████████████████████████████████████████| 73/73 [06:00<00:00,  4.94s/it]\n",
      "  0%|                                                                                            | 0/18 [00:00<?, ?it/s]"
     ]
    },
    {
     "name": "stdout",
     "output_type": "stream",
     "text": [
      "Begin iterating over validation dataset\n"
     ]
    },
    {
     "name": "stderr",
     "output_type": "stream",
     "text": [
      "100%|███████████████████████████████████████████████████████████████████████████████████| 18/18 [00:21<00:00,  1.18s/it]\n",
      "  0%|                                                                                            | 0/73 [00:00<?, ?it/s]"
     ]
    },
    {
     "name": "stdout",
     "output_type": "stream",
     "text": [
      "Loss: 0.5655024275183678\n",
      "Epoch 23 of 25\n",
      "Begin iterating over training dataset\n"
     ]
    },
    {
     "name": "stderr",
     "output_type": "stream",
     "text": [
      "100%|███████████████████████████████████████████████████████████████████████████████████| 73/73 [05:59<00:00,  4.93s/it]\n",
      "  0%|                                                                                            | 0/18 [00:00<?, ?it/s]"
     ]
    },
    {
     "name": "stdout",
     "output_type": "stream",
     "text": [
      "Begin iterating over validation dataset\n"
     ]
    },
    {
     "name": "stderr",
     "output_type": "stream",
     "text": [
      "100%|███████████████████████████████████████████████████████████████████████████████████| 18/18 [00:21<00:00,  1.18s/it]\n",
      "  0%|                                                                                            | 0/73 [00:00<?, ?it/s]"
     ]
    },
    {
     "name": "stdout",
     "output_type": "stream",
     "text": [
      "Loss: 0.5557921652992567\n",
      "Epoch 24 of 25\n",
      "Begin iterating over training dataset\n"
     ]
    },
    {
     "name": "stderr",
     "output_type": "stream",
     "text": [
      "100%|███████████████████████████████████████████████████████████████████████████████████| 73/73 [05:59<00:00,  4.93s/it]\n",
      "  0%|                                                                                            | 0/18 [00:00<?, ?it/s]"
     ]
    },
    {
     "name": "stdout",
     "output_type": "stream",
     "text": [
      "Begin iterating over validation dataset\n"
     ]
    },
    {
     "name": "stderr",
     "output_type": "stream",
     "text": [
      "100%|███████████████████████████████████████████████████████████████████████████████████| 18/18 [00:21<00:00,  1.18s/it]\n",
      "  0%|                                                                                            | 0/73 [00:00<?, ?it/s]"
     ]
    },
    {
     "name": "stdout",
     "output_type": "stream",
     "text": [
      "Loss: 0.5607042726543214\n",
      "Epoch 25 of 25\n",
      "Begin iterating over training dataset\n"
     ]
    },
    {
     "name": "stderr",
     "output_type": "stream",
     "text": [
      "100%|███████████████████████████████████████████████████████████████████████████████████| 73/73 [05:59<00:00,  4.93s/it]\n",
      "  0%|                                                                                            | 0/18 [00:00<?, ?it/s]"
     ]
    },
    {
     "name": "stdout",
     "output_type": "stream",
     "text": [
      "Begin iterating over validation dataset\n"
     ]
    },
    {
     "name": "stderr",
     "output_type": "stream",
     "text": [
      "100%|███████████████████████████████████████████████████████████████████████████████████| 18/18 [00:21<00:00,  1.18s/it]"
     ]
    },
    {
     "name": "stdout",
     "output_type": "stream",
     "text": [
      "Loss: 0.5610727866490682\n"
     ]
    },
    {
     "name": "stderr",
     "output_type": "stream",
     "text": [
      "\n"
     ]
    }
   ],
   "source": [
    "loader = core.DataLoader(train_dataset, batch_size=2, shuffle=True)\n",
    "model  = core.Model(['border'])\n",
    "losses = model.fit(loader, val_dataset, epochs=25, lr_step_size=5, learning_rate=0.001, verbose=True)"
   ]
  },
  {
   "cell_type": "code",
   "execution_count": 7,
   "id": "0f900df6",
   "metadata": {},
   "outputs": [],
   "source": [
    "# losses = [0.9508118364546034, 0.75380440056324, 0.6907210929526223, 0.6527931027942233, 0.63638826376862, 0.5833292346861627, 0.5841797035601404, 0.5645516887307167, 0.5781920651594797, 0.5713783469465044, 0.5809965257843336, 0.5741455894377496, 0.5667881609665023, 0.5728824254539278, 0.5620597956909074, 0.5722238446275393, 0.5729513292511305, 0.5709889034430186, 0.5695207847489251, 0.5669917315244675, 0.5680353335208363, 0.5712690369950401, 0.5712521920601527, 0.574305508699682, 0.5662338179018762]"
   ]
  },
  {
   "cell_type": "code",
   "execution_count": 8,
   "id": "b1e14498",
   "metadata": {},
   "outputs": [
    {
     "data": {
      "image/png": "[encoded data removed]",
      "text/plain": [
       "<Figure size 432x288 with 1 Axes>"
      ]
     },
     "metadata": {
      "needs_background": "light"
     },
     "output_type": "display_data"
    }
   ],
   "source": [
    "plt.plot(losses)\n",
    "plt.show()"
   ]
  },
  {
   "cell_type": "markdown",
   "id": "6d82c7dc",
   "metadata": {},
   "source": [
    "## Model saving"
   ]
  },
  {
   "cell_type": "code",
   "execution_count": 9,
   "id": "c1f18572",
   "metadata": {},
   "outputs": [],
   "source": [
    "model.save('model_weights_bccaas.pth')"
   ]
  },
  {
   "cell_type": "markdown",
   "id": "9dd9d593",
   "metadata": {},
   "source": [
    "## Model loading"
   ]
  },
  {
   "cell_type": "code",
   "execution_count": 10,
   "id": "140a1c49",
   "metadata": {},
   "outputs": [],
   "source": [
    "model = core.Model.load('model_weights_bccaas.pth', ['border'])"
   ]
  },
  {
   "cell_type": "markdown",
   "id": "d772628f",
   "metadata": {},
   "source": [
    "## Load test set"
   ]
  },
  {
   "cell_type": "code",
   "execution_count": 11,
   "id": "ae4933ea",
   "metadata": {},
   "outputs": [
    {
     "data": {
      "text/plain": [
       "239"
      ]
     },
     "execution_count": 11,
     "metadata": {},
     "output_type": "execute_result"
    }
   ],
   "source": [
    "import os\n",
    "\n",
    "test_dataset = f'{dataset_dir}/test/'\n",
    "files = sorted(os.listdir(test_dataset), reverse=True)\n",
    "len(files)"
   ]
  },
  {
   "cell_type": "code",
   "execution_count": 12,
   "id": "d302f80b",
   "metadata": {},
   "outputs": [
    {
     "data": {
      "text/plain": [
       "19"
      ]
     },
     "execution_count": 12,
     "metadata": {},
     "output_type": "execute_result"
    }
   ],
   "source": [
    "border_filenames = [f[:-4] for f in files if f[-4:] == '.xml']\n",
    "len(border_filenames)"
   ]
  },
  {
   "cell_type": "code",
   "execution_count": 13,
   "id": "09468c08",
   "metadata": {},
   "outputs": [
    {
     "data": {
      "text/plain": [
       "182"
      ]
     },
     "execution_count": 13,
     "metadata": {},
     "output_type": "execute_result"
    }
   ],
   "source": [
    "negative_filenames = [f[:-4] for f in files if f[:-4] not in border_filenames]\n",
    "len(negative_filenames)"
   ]
  },
  {
   "cell_type": "markdown",
   "id": "ec069c9f",
   "metadata": {},
   "source": [
    "## Run predictions"
   ]
  },
  {
   "cell_type": "code",
   "execution_count": 14,
   "id": "f9f029d4",
   "metadata": {},
   "outputs": [],
   "source": [
    "negative_predictions = []\n",
    "for i in range(len(negative_filenames)):\n",
    "    image = utils.read_image(f'{test_dataset}/{negative_filenames[i]}.jpg') \n",
    "    prediction = model.predict(image)\n",
    "    negative_predictions.append(prediction)\n",
    "#     labels, boxes, scores = model.predict(image)\n",
    "#     show_labeled_image(image, boxes, labels)"
   ]
  },
  {
   "cell_type": "code",
   "execution_count": 15,
   "id": "33c56946",
   "metadata": {},
   "outputs": [
    {
     "data": {
      "text/plain": [
       "182"
      ]
     },
     "execution_count": 15,
     "metadata": {},
     "output_type": "execute_result"
    }
   ],
   "source": [
    "len(negative_predictions)"
   ]
  },
  {
   "cell_type": "code",
   "execution_count": 16,
   "id": "8646a753",
   "metadata": {},
   "outputs": [],
   "source": [
    "positive_predictions = []\n",
    "for i in range(len(border_filenames)):\n",
    "    image = utils.read_image(f'{test_dataset}/{border_filenames[i]}.jpg') \n",
    "    prediction = model.predict(image)\n",
    "    positive_predictions.append(prediction)"
   ]
  },
  {
   "cell_type": "code",
   "execution_count": 17,
   "id": "8becc1be",
   "metadata": {},
   "outputs": [
    {
     "data": {
      "text/plain": [
       "19"
      ]
     },
     "execution_count": 17,
     "metadata": {},
     "output_type": "execute_result"
    }
   ],
   "source": [
    "len(positive_predictions)"
   ]
  },
  {
   "cell_type": "code",
   "execution_count": 51,
   "id": "fd60d5cc",
   "metadata": {},
   "outputs": [],
   "source": [
    "thresh = 0.65\n",
    "negative_scores = [any(score > thresh) for _, _, score in negative_predictions]\n",
    "positive_scores = [any(score > thresh) for _, _, score in positive_predictions]"
   ]
  },
  {
   "cell_type": "code",
   "execution_count": 52,
   "id": "7b195f6f",
   "metadata": {},
   "outputs": [
    {
     "data": {
      "text/plain": [
       "(19, 162)"
      ]
     },
     "execution_count": 52,
     "metadata": {},
     "output_type": "execute_result"
    }
   ],
   "source": [
    "sum(positive_scores), 182-sum(negative_scores)"
   ]
  },
  {
   "cell_type": "code",
   "execution_count": 53,
   "id": "ad2c6e82",
   "metadata": {},
   "outputs": [
    {
     "data": {
      "text/plain": [
       "(1.0, 0.8901098901098901)"
      ]
     },
     "execution_count": 53,
     "metadata": {},
     "output_type": "execute_result"
    }
   ],
   "source": [
    "sum(positive_scores)/19, (182-sum(negative_scores))/182"
   ]
  },
  {
   "cell_type": "code",
   "execution_count": null,
   "id": "a844e5cc",
   "metadata": {},
   "outputs": [],
   "source": []
  },
  {
   "cell_type": "code",
   "execution_count": null,
   "id": "d4b04aab",
   "metadata": {},
   "outputs": [],
   "source": []
  },
  {
   "cell_type": "markdown",
   "id": "d2eb96cf",
   "metadata": {},
   "source": [
    "## Unedited code for visualising multiple images"
   ]
  },
  {
   "cell_type": "code",
   "execution_count": null,
   "id": "4c604565",
   "metadata": {},
   "outputs": [],
   "source": [
    "from detecto.core import Model\n",
    "from detecto import utils, visualize\n",
    "\n",
    "model = Model()\n",
    "\n",
    "image = utils.read_image('image.jpg')  # Helper function to read in images\n",
    "\n",
    "labels, boxes, scores = model.predict(image)  # Get all predictions on an image\n",
    "predictions = model.predict_top(image)  # Same as above, but returns only the top predictions\n",
    "\n",
    "print(labels, boxes, scores)\n",
    "print(predictions)\n",
    "\n",
    "visualize.show_labeled_image(image, boxes, labels)  # Plot predictions on a single image\n",
    "\n",
    "images = [...]\n",
    "visualize.plot_prediction_grid(model, images)  # Plot predictions on a list of images\n",
    "\n",
    "visualize.detect_video(model, 'input_video.mp4', 'output.avi')  # Run inference on a video\n",
    "visualize.detect_live(model)  # Run inference on a live webcam"
   ]
  },
  {
   "cell_type": "code",
   "execution_count": null,
   "id": "7b233852",
   "metadata": {},
   "outputs": [],
   "source": []
  },
  {
   "cell_type": "code",
   "execution_count": null,
   "id": "dacbffd2",
   "metadata": {},
   "outputs": [],
   "source": []
  },
  {
   "cell_type": "code",
   "execution_count": null,
   "id": "188ddd66",
   "metadata": {},
   "outputs": [],
   "source": []
  },
  {
   "cell_type": "code",
   "execution_count": null,
   "id": "3055f676",
   "metadata": {},
   "outputs": [],
   "source": []
  },
  {
   "cell_type": "code",
   "execution_count": null,
   "id": "254b8889",
   "metadata": {},
   "outputs": [],
   "source": []
  },
  {
   "cell_type": "code",
   "execution_count": null,
   "id": "37c3d3d8",
   "metadata": {},
   "outputs": [],
   "source": []
  },
  {
   "cell_type": "code",
   "execution_count": null,
   "id": "a80f9ce0",
   "metadata": {},
   "outputs": [],
   "source": []
  },
  {
   "cell_type": "code",
   "execution_count": null,
   "id": "4f5d814d",
   "metadata": {},
   "outputs": [],
   "source": []
  },
  {
   "cell_type": "code",
   "execution_count": null,
   "id": "d6ae10ed",
   "metadata": {},
   "outputs": [],
   "source": []
  },
  {
   "cell_type": "code",
   "execution_count": null,
   "id": "fbb463b5",
   "metadata": {},
   "outputs": [],
   "source": []
  },
  {
   "cell_type": "code",
   "execution_count": null,
   "id": "c1a454b3",
   "metadata": {},
   "outputs": [],
   "source": []
  },
  {
   "cell_type": "code",
   "execution_count": null,
   "id": "639f1d0a",
   "metadata": {},
   "outputs": [],
   "source": []
  },
  {
   "cell_type": "code",
   "execution_count": null,
   "id": "47f4dc30",
   "metadata": {},
   "outputs": [],
   "source": []
  },
  {
   "cell_type": "code",
   "execution_count": null,
   "id": "cb833cb8",
   "metadata": {},
   "outputs": [],
   "source": []
  },
  {
   "cell_type": "code",
   "execution_count": null,
   "id": "2053bbf4",
   "metadata": {},
   "outputs": [],
   "source": [
    "\n"
   ]
  }
 ],
 "metadata": {
  "kernelspec": {
   "display_name": "temp",
   "language": "python",
   "name": "temp"
  },
  "language_info": {
   "codemirror_mode": {
    "name": "ipython",
    "version": 3
   },
   "file_extension": ".py",
   "mimetype": "text/x-python",
   "name": "python",
   "nbconvert_exporter": "python",
   "pygments_lexer": "ipython3",
   "version": "3.8.10"
  }
 },
 "nbformat": 4,
 "nbformat_minor": 5
}

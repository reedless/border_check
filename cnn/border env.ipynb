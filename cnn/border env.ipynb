{
 "cells": [
  {
   "cell_type": "code",
   "execution_count": 1,
   "id": "14632b0f",
   "metadata": {},
   "outputs": [],
   "source": [
    "from train import Model\n",
    "from utils import read_image"
   ]
  },
  {
   "cell_type": "code",
   "execution_count": 2,
   "id": "7a5223a0",
   "metadata": {},
   "outputs": [],
   "source": [
    "# set random seeds + make deterministic\n",
    "import torch\n",
    "torch.manual_seed(42)\n",
    "\n",
    "import random\n",
    "random.seed(42)\n",
    "\n",
    "import numpy as np\n",
    "np.random.seed(42)\n",
    "\n",
    "# torch.backends.cudnn.deterministic = True\n",
    "# torch.backends.cudnn.benchmark = False\n",
    "# torch.manual_seed(seed)\n",
    "torch.cuda.manual_seed(42)\n",
    "torch.cuda.manual_seed_all(42)\n",
    "\n",
    "torch.backends.cudnn.benchmark = False\n",
    "# torch.use_deterministic_algorithms(True)\n",
    "# torch.backends.cudnn.deterministic = True"
   ]
  },
  {
   "cell_type": "code",
   "execution_count": 3,
   "id": "0dc10db7",
   "metadata": {},
   "outputs": [
    {
     "ename": "FileNotFoundError",
     "evalue": "[Errno 2] No such file or directory: 'model_weights_bccaas.pth'",
     "output_type": "error",
     "traceback": [
      "\u001b[0;31m---------------------------------------------------------------------------\u001b[0m",
      "\u001b[0;31mFileNotFoundError\u001b[0m                         Traceback (most recent call last)",
      "\u001b[0;32m/tmp/ipykernel_14886/2333323956.py\u001b[0m in \u001b[0;36m<module>\u001b[0;34m\u001b[0m\n\u001b[1;32m      1\u001b[0m \u001b[0mweights_path\u001b[0m \u001b[0;34m=\u001b[0m \u001b[0;34m'model_weights_bccaas.pth'\u001b[0m\u001b[0;34m\u001b[0m\u001b[0;34m\u001b[0m\u001b[0m\n\u001b[1;32m      2\u001b[0m \u001b[0;34m\u001b[0m\u001b[0m\n\u001b[0;32m----> 3\u001b[0;31m \u001b[0mmodel\u001b[0m \u001b[0;34m=\u001b[0m \u001b[0mModel\u001b[0m\u001b[0;34m.\u001b[0m\u001b[0mload\u001b[0m\u001b[0;34m(\u001b[0m\u001b[0mweights_path\u001b[0m\u001b[0;34m,\u001b[0m \u001b[0;34m[\u001b[0m\u001b[0;34m'border'\u001b[0m\u001b[0;34m]\u001b[0m\u001b[0;34m)\u001b[0m\u001b[0;34m\u001b[0m\u001b[0;34m\u001b[0m\u001b[0m\n\u001b[0m\u001b[1;32m      4\u001b[0m \u001b[0;34m\u001b[0m\u001b[0m\n\u001b[1;32m      5\u001b[0m \u001b[0mdataset_dir\u001b[0m \u001b[0;34m=\u001b[0m \u001b[0;34m'../all_border_dataset_2000_annotations_split'\u001b[0m\u001b[0;34m\u001b[0m\u001b[0;34m\u001b[0m\u001b[0m\n",
      "\u001b[0;32m~/cache/border_check_v0.1.0/cnn/train.py\u001b[0m in \u001b[0;36mload\u001b[0;34m(file, classes)\u001b[0m\n\u001b[1;32m    345\u001b[0m         \u001b[0mmodel\u001b[0m \u001b[0;34m=\u001b[0m \u001b[0mModel\u001b[0m\u001b[0;34m(\u001b[0m\u001b[0mclasses\u001b[0m\u001b[0;34m,\u001b[0m \u001b[0mpretrained\u001b[0m\u001b[0;34m=\u001b[0m\u001b[0;32mFalse\u001b[0m\u001b[0;34m,\u001b[0m \u001b[0mpretrained_backbone\u001b[0m\u001b[0;34m=\u001b[0m\u001b[0;32mFalse\u001b[0m\u001b[0;34m)\u001b[0m\u001b[0;34m\u001b[0m\u001b[0;34m\u001b[0m\u001b[0m\n\u001b[1;32m    346\u001b[0m         model._model.load_state_dict(\n\u001b[0;32m--> 347\u001b[0;31m             torch.load(file, map_location=model._device))\n\u001b[0m\u001b[1;32m    348\u001b[0m         \u001b[0;32mreturn\u001b[0m \u001b[0mmodel\u001b[0m\u001b[0;34m\u001b[0m\u001b[0;34m\u001b[0m\u001b[0m\n\u001b[1;32m    349\u001b[0m \u001b[0;34m\u001b[0m\u001b[0m\n",
      "\u001b[0;32m~/.venv/border/lib/python3.8/site-packages/torch/serialization.py\u001b[0m in \u001b[0;36mload\u001b[0;34m(f, map_location, pickle_module, **pickle_load_args)\u001b[0m\n\u001b[1;32m    592\u001b[0m         \u001b[0mpickle_load_args\u001b[0m\u001b[0;34m[\u001b[0m\u001b[0;34m'encoding'\u001b[0m\u001b[0;34m]\u001b[0m \u001b[0;34m=\u001b[0m \u001b[0;34m'utf-8'\u001b[0m\u001b[0;34m\u001b[0m\u001b[0;34m\u001b[0m\u001b[0m\n\u001b[1;32m    593\u001b[0m \u001b[0;34m\u001b[0m\u001b[0m\n\u001b[0;32m--> 594\u001b[0;31m     \u001b[0;32mwith\u001b[0m \u001b[0m_open_file_like\u001b[0m\u001b[0;34m(\u001b[0m\u001b[0mf\u001b[0m\u001b[0;34m,\u001b[0m \u001b[0;34m'rb'\u001b[0m\u001b[0;34m)\u001b[0m \u001b[0;32mas\u001b[0m \u001b[0mopened_file\u001b[0m\u001b[0;34m:\u001b[0m\u001b[0;34m\u001b[0m\u001b[0;34m\u001b[0m\u001b[0m\n\u001b[0m\u001b[1;32m    595\u001b[0m         \u001b[0;32mif\u001b[0m \u001b[0m_is_zipfile\u001b[0m\u001b[0;34m(\u001b[0m\u001b[0mopened_file\u001b[0m\u001b[0;34m)\u001b[0m\u001b[0;34m:\u001b[0m\u001b[0;34m\u001b[0m\u001b[0;34m\u001b[0m\u001b[0m\n\u001b[1;32m    596\u001b[0m             \u001b[0;31m# The zipfile reader is going to advance the current file position.\u001b[0m\u001b[0;34m\u001b[0m\u001b[0;34m\u001b[0m\u001b[0;34m\u001b[0m\u001b[0m\n",
      "\u001b[0;32m~/.venv/border/lib/python3.8/site-packages/torch/serialization.py\u001b[0m in \u001b[0;36m_open_file_like\u001b[0;34m(name_or_buffer, mode)\u001b[0m\n\u001b[1;32m    228\u001b[0m \u001b[0;32mdef\u001b[0m \u001b[0m_open_file_like\u001b[0m\u001b[0;34m(\u001b[0m\u001b[0mname_or_buffer\u001b[0m\u001b[0;34m,\u001b[0m \u001b[0mmode\u001b[0m\u001b[0;34m)\u001b[0m\u001b[0;34m:\u001b[0m\u001b[0;34m\u001b[0m\u001b[0;34m\u001b[0m\u001b[0m\n\u001b[1;32m    229\u001b[0m     \u001b[0;32mif\u001b[0m \u001b[0m_is_path\u001b[0m\u001b[0;34m(\u001b[0m\u001b[0mname_or_buffer\u001b[0m\u001b[0;34m)\u001b[0m\u001b[0;34m:\u001b[0m\u001b[0;34m\u001b[0m\u001b[0;34m\u001b[0m\u001b[0m\n\u001b[0;32m--> 230\u001b[0;31m         \u001b[0;32mreturn\u001b[0m \u001b[0m_open_file\u001b[0m\u001b[0;34m(\u001b[0m\u001b[0mname_or_buffer\u001b[0m\u001b[0;34m,\u001b[0m \u001b[0mmode\u001b[0m\u001b[0;34m)\u001b[0m\u001b[0;34m\u001b[0m\u001b[0;34m\u001b[0m\u001b[0m\n\u001b[0m\u001b[1;32m    231\u001b[0m     \u001b[0;32melse\u001b[0m\u001b[0;34m:\u001b[0m\u001b[0;34m\u001b[0m\u001b[0;34m\u001b[0m\u001b[0m\n\u001b[1;32m    232\u001b[0m         \u001b[0;32mif\u001b[0m \u001b[0;34m'w'\u001b[0m \u001b[0;32min\u001b[0m \u001b[0mmode\u001b[0m\u001b[0;34m:\u001b[0m\u001b[0;34m\u001b[0m\u001b[0;34m\u001b[0m\u001b[0m\n",
      "\u001b[0;32m~/.venv/border/lib/python3.8/site-packages/torch/serialization.py\u001b[0m in \u001b[0;36m__init__\u001b[0;34m(self, name, mode)\u001b[0m\n\u001b[1;32m    209\u001b[0m \u001b[0;32mclass\u001b[0m \u001b[0m_open_file\u001b[0m\u001b[0;34m(\u001b[0m\u001b[0m_opener\u001b[0m\u001b[0;34m)\u001b[0m\u001b[0;34m:\u001b[0m\u001b[0;34m\u001b[0m\u001b[0;34m\u001b[0m\u001b[0m\n\u001b[1;32m    210\u001b[0m     \u001b[0;32mdef\u001b[0m \u001b[0m__init__\u001b[0m\u001b[0;34m(\u001b[0m\u001b[0mself\u001b[0m\u001b[0;34m,\u001b[0m \u001b[0mname\u001b[0m\u001b[0;34m,\u001b[0m \u001b[0mmode\u001b[0m\u001b[0;34m)\u001b[0m\u001b[0;34m:\u001b[0m\u001b[0;34m\u001b[0m\u001b[0;34m\u001b[0m\u001b[0m\n\u001b[0;32m--> 211\u001b[0;31m         \u001b[0msuper\u001b[0m\u001b[0;34m(\u001b[0m\u001b[0m_open_file\u001b[0m\u001b[0;34m,\u001b[0m \u001b[0mself\u001b[0m\u001b[0;34m)\u001b[0m\u001b[0;34m.\u001b[0m\u001b[0m__init__\u001b[0m\u001b[0;34m(\u001b[0m\u001b[0mopen\u001b[0m\u001b[0;34m(\u001b[0m\u001b[0mname\u001b[0m\u001b[0;34m,\u001b[0m \u001b[0mmode\u001b[0m\u001b[0;34m)\u001b[0m\u001b[0;34m)\u001b[0m\u001b[0;34m\u001b[0m\u001b[0;34m\u001b[0m\u001b[0m\n\u001b[0m\u001b[1;32m    212\u001b[0m \u001b[0;34m\u001b[0m\u001b[0m\n\u001b[1;32m    213\u001b[0m     \u001b[0;32mdef\u001b[0m \u001b[0m__exit__\u001b[0m\u001b[0;34m(\u001b[0m\u001b[0mself\u001b[0m\u001b[0;34m,\u001b[0m \u001b[0;34m*\u001b[0m\u001b[0margs\u001b[0m\u001b[0;34m)\u001b[0m\u001b[0;34m:\u001b[0m\u001b[0;34m\u001b[0m\u001b[0;34m\u001b[0m\u001b[0m\n",
      "\u001b[0;31mFileNotFoundError\u001b[0m: [Errno 2] No such file or directory: 'model_weights_bccaas.pth'"
     ]
    }
   ],
   "source": [
    "weights_path = 'model_weights_bccaas.pth'\n",
    "\n",
    "model = Model.load(weights_path, ['border'])\n",
    "\n",
    "dataset_dir = '../all_border_dataset_2000_annotations_split'\n",
    "\n",
    "test_dataset = f'{dataset_dir}/test'\n",
    "\n",
    "for img in ['Test_shoulder_0054.jpg', 'Test_shoulder_0068.jpg', 'Test_shoulder_0071.jpg']:\n",
    "# for img in ['border_Img_000310.jpg', 'border_Img_000312.jpg', 'border_Img_000314.jpg']:\n",
    "#     img = f'{test_dataset}/{img}'\n",
    "    image = read_image(img)\n",
    "    print(img)\n",
    "    labels, boxes, scores = model.predict(image)\n",
    "    for score in scores:\n",
    "        if score > 0.5:\n",
    "            print(score)"
   ]
  },
  {
   "cell_type": "code",
   "execution_count": null,
   "id": "29f27f09",
   "metadata": {},
   "outputs": [],
   "source": []
  },
  {
   "cell_type": "code",
   "execution_count": null,
   "id": "af249187",
   "metadata": {},
   "outputs": [],
   "source": [
    "model = Model.load(weights_path, ['border'])\n",
    "thresh = 0.7\n",
    "for img in ['Test_shoulder_0054.png', 'Test_shoulder_0068.png', 'Test_shoulder_0071.png', '7a.jpg', '7b.jpg']:\n",
    "    image = read_image(img)\n",
    "    labels, boxes, scores = model.predict(image)\n",
    "    print(any(scores > thresh))"
   ]
  },
  {
   "cell_type": "code",
   "execution_count": null,
   "id": "14f87b2d",
   "metadata": {},
   "outputs": [],
   "source": [
    "def show_labeled_image(image, boxes, labels=None):\n",
    "    \"\"\"Show the image along with the specified boxes around detected objects.\n",
    "    Also displays each box's label if a list of labels is provided.\n",
    "    :param image: The image to plot. If the image is a normalized\n",
    "        torch.Tensor object, it will automatically be reverse-normalized\n",
    "        and converted to a PIL image for plotting.\n",
    "    :type image: numpy.ndarray or torch.Tensor\n",
    "    :param boxes: A torch tensor of size (N, 4) where N is the number\n",
    "        of boxes to plot, or simply size 4 if N is 1.\n",
    "    :type boxes: torch.Tensor\n",
    "    :param labels: (Optional) A list of size N giving the labels of\n",
    "            each box (labels[i] corresponds to boxes[i]). Defaults to None.\n",
    "    :type labels: torch.Tensor or None\n",
    "    **Example**::\n",
    "        >>> from detecto.core import Model\n",
    "        >>> from detecto.utils import read_image\n",
    "        >>> from detecto.visualize import show_labeled_image\n",
    "        >>> model = Model.load('model_weights.pth', ['tick', 'gate'])\n",
    "        >>> image = read_image('image.jpg')\n",
    "        >>> labels, boxes, scores = model.predict(image)\n",
    "        >>> show_labeled_image(image, boxes, labels)\n",
    "    \"\"\"\n",
    "\n",
    "    fig, ax = plt.subplots(1)\n",
    "    # If the image is already a tensor, convert it back to a PILImage\n",
    "    # and reverse normalize it\n",
    "    if isinstance(image, torch.Tensor):\n",
    "        image = reverse_normalize(image)\n",
    "        image = transforms.ToPILImage()(image)\n",
    "    ax.imshow(image)\n",
    "\n",
    "    # Show a single box or multiple if provided\n",
    "    if boxes.ndim == 1:\n",
    "        boxes = boxes.view(1, 4)\n",
    "\n",
    "    if labels is not None and not is_iterable(labels):\n",
    "        labels = [labels]\n",
    "\n",
    "    # Plot each box\n",
    "    for i in range(boxes.shape[0]):\n",
    "        box = boxes[i]\n",
    "        width, height = (box[2] - box[0]).item(), (box[3] - box[1]).item()\n",
    "        initial_pos = (box[0].item(), box[1].item())\n",
    "        rect = patches.Rectangle(initial_pos,  width, height, linewidth=1,\n",
    "                                 edgecolor='r', facecolor='none')\n",
    "        if labels:\n",
    "            ax.text(box[0] + 5, box[1] - 5, '{}'.format(labels[i]), color='red')\n",
    "\n",
    "        ax.add_patch(rect)\n",
    "\n",
    "    plt.show()"
   ]
  },
  {
   "cell_type": "code",
   "execution_count": null,
   "id": "95316714",
   "metadata": {},
   "outputs": [],
   "source": [
    "import matplotlib.pyplot as plt\n",
    "import torch\n",
    "from utils import is_iterable\n",
    "import matplotlib.patches as patches"
   ]
  },
  {
   "cell_type": "code",
   "execution_count": null,
   "id": "36be0c7e",
   "metadata": {},
   "outputs": [],
   "source": [
    "model = Model.load(weights_path, ['border'])\n",
    "\n",
    "dataset_dir = '../all_border_dataset_2000_annotations_split'\n",
    "\n",
    "test_dataset = f'{dataset_dir}/test'\n",
    "\n",
    "for img in ['border_Img_000310.jpg', 'border_Img_000312.jpg', 'border_Img_000314.jpg']:\n",
    "    img = f'{test_dataset}/{img}'\n",
    "    image = read_image(img)\n",
    "    print(img)\n",
    "    labels, boxes, scores = model.predict(image)\n",
    "    filtered_boxes = []\n",
    "    filtered_labels = []\n",
    "    for i in range(len(scores)):\n",
    "        if scores[i] > 0.5 :\n",
    "            filtered_boxes.append(boxes[i].tolist())\n",
    "            filtered_labels.append(labels[i])\n",
    "    show_labeled_image(image, torch.Tensor(filtered_boxes))  # Plot predictions on a single image"
   ]
  },
  {
   "cell_type": "code",
   "execution_count": null,
   "id": "b8500d91",
   "metadata": {},
   "outputs": [],
   "source": []
  },
  {
   "cell_type": "code",
   "execution_count": null,
   "id": "e1ee0306",
   "metadata": {},
   "outputs": [],
   "source": []
  },
  {
   "cell_type": "code",
   "execution_count": null,
   "id": "2db0d91d",
   "metadata": {},
   "outputs": [],
   "source": []
  },
  {
   "cell_type": "code",
   "execution_count": null,
   "id": "08dab4a4",
   "metadata": {},
   "outputs": [],
   "source": []
  },
  {
   "cell_type": "code",
   "execution_count": null,
   "id": "e1c8c3ea",
   "metadata": {},
   "outputs": [],
   "source": []
  },
  {
   "cell_type": "code",
   "execution_count": null,
   "id": "4a2ccb78",
   "metadata": {},
   "outputs": [],
   "source": [
    "model = Model.load('model_weights.pth', ['border'])\n",
    "\n",
    "for img in ['Test_shoulder_0054.png', 'Test_shoulder_0068.png', 'Test_shoulder_0071.png']:\n",
    "    image = read_image(img)\n",
    "    print(img)\n",
    "    labels, boxes, scores = model.predict(image)\n",
    "    print(scores)"
   ]
  },
  {
   "cell_type": "code",
   "execution_count": null,
   "id": "49ec55fb",
   "metadata": {},
   "outputs": [],
   "source": []
  },
  {
   "cell_type": "code",
   "execution_count": null,
   "id": "ecd0c558",
   "metadata": {},
   "outputs": [],
   "source": []
  },
  {
   "cell_type": "code",
   "execution_count": null,
   "id": "5da7e395",
   "metadata": {},
   "outputs": [],
   "source": []
  }
 ],
 "metadata": {
  "kernelspec": {
   "display_name": "border",
   "language": "python",
   "name": "border"
  },
  "language_info": {
   "codemirror_mode": {
    "name": "ipython",
    "version": 3
   },
   "file_extension": ".py",
   "mimetype": "text/x-python",
   "name": "python",
   "nbconvert_exporter": "python",
   "pygments_lexer": "ipython3",
   "version": "3.8.10"
  }
 },
 "nbformat": 4,
 "nbformat_minor": 5
}

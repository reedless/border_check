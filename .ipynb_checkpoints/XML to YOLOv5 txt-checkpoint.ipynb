{
 "cells": [
  {
   "cell_type": "markdown",
   "id": "583bd4a4",
   "metadata": {},
   "source": [
    "## XML to info_dict"
   ]
  },
  {
   "cell_type": "code",
   "execution_count": 90,
   "id": "1959441c",
   "metadata": {},
   "outputs": [],
   "source": [
    "import xml.etree.ElementTree as ET\n",
    "\n",
    "# Function to get the data from XML Annotation\n",
    "def extract_info_from_xml(xml_file):\n",
    "    root = ET.parse(xml_file).getroot()\n",
    "    \n",
    "    # Initialise the info dict \n",
    "    info_dict = {}\n",
    "    info_dict['bboxes'] = []\n",
    "\n",
    "    # Parse the XML Tree\n",
    "    for elem in root:\n",
    "        # Get the file name \n",
    "        if elem.tag == \"filename\":\n",
    "            info_dict['filename'] = elem.text\n",
    "            \n",
    "        # Get the image size\n",
    "        elif elem.tag == \"size\":\n",
    "            image_size = []\n",
    "            for subelem in elem:\n",
    "                image_size.append(int(subelem.text))\n",
    "            \n",
    "            info_dict['image_size'] = tuple(image_size)\n",
    "        \n",
    "        # Get details of the bounding box \n",
    "        elif elem.tag == \"object\":\n",
    "            bbox = {}\n",
    "            for subelem in elem:\n",
    "                if subelem.tag == \"name\":\n",
    "                    bbox[\"class\"] = subelem.text\n",
    "                    \n",
    "                elif subelem.tag == \"bndbox\":\n",
    "                    for subsubelem in subelem:\n",
    "                        bbox[subsubelem.tag] = int(subsubelem.text)            \n",
    "            info_dict['bboxes'].append(bbox)\n",
    "    \n",
    "    return info_dict"
   ]
  },
  {
   "cell_type": "markdown",
   "id": "1e0a0461",
   "metadata": {},
   "source": [
    "## Info dict to YOLO txt file"
   ]
  },
  {
   "cell_type": "code",
   "execution_count": 98,
   "id": "bcbf19b3",
   "metadata": {},
   "outputs": [],
   "source": [
    "# Convert the info dict to the required yolo format and write it to disk\n",
    "def convert_to_yolov5(info_dict):\n",
    "    print_buffer = []\n",
    "    \n",
    "    # For each bounding box\n",
    "    for b in info_dict[\"bboxes\"]:\n",
    "        try:\n",
    "            class_id = class_name_to_id_mapping[b[\"class\"]]\n",
    "        except KeyError:\n",
    "            print(\"Invalid Class. Must be one from \", class_name_to_id_mapping.keys())\n",
    "        \n",
    "        # Transform the bbox co-ordinates as per the format required by YOLO v5\n",
    "        b_center_x = (b[\"xmin\"] + b[\"xmax\"]) / 2 \n",
    "        b_center_y = (b[\"ymin\"] + b[\"ymax\"]) / 2\n",
    "        b_width    = (b[\"xmax\"] - b[\"xmin\"])\n",
    "        b_height   = (b[\"ymax\"] - b[\"ymin\"])\n",
    "        \n",
    "        # Normalise the co-ordinates by the dimensions of the image\n",
    "        image_w, image_h, image_c = info_dict[\"image_size\"]  \n",
    "        b_center_x /= image_w \n",
    "        b_center_y /= image_h \n",
    "        b_width    /= image_w \n",
    "        b_height   /= image_h \n",
    "        \n",
    "        #Write the bbox details to the file \n",
    "        print_buffer.append(\"{} {:.3f} {:.3f} {:.3f} {:.3f}\".format(class_id, b_center_x, b_center_y, b_width, b_height))\n",
    "        \n",
    "    # Name of the file which we have to save \n",
    "    save_file_name = os.path.join(f'./all_border_dataset_2000_annotations_split/{split}', info_dict[\"filename\"].replace(\"jpg\", \"txt\"))\n",
    "    \n",
    "    # Save the annotation to disk\n",
    "    print(\"\\n\".join(print_buffer), file= open(save_file_name, \"w\"))\n",
    "    print(save_file_name)\n"
   ]
  },
  {
   "cell_type": "code",
   "execution_count": 99,
   "id": "30e9665f",
   "metadata": {},
   "outputs": [],
   "source": [
    "# Dictionary that maps class names to IDs\n",
    "class_name_to_id_mapping = {\"border\": 0}"
   ]
  },
  {
   "cell_type": "markdown",
   "id": "0503c22f",
   "metadata": {},
   "source": [
    "## Get filenames"
   ]
  },
  {
   "cell_type": "code",
   "execution_count": 100,
   "id": "92008fda",
   "metadata": {},
   "outputs": [
    {
     "data": {
      "text/plain": [
       "['val', 'train', 'test', 'experiment']"
      ]
     },
     "execution_count": 100,
     "metadata": {},
     "output_type": "execute_result"
    }
   ],
   "source": [
    "import os\n",
    "\n",
    "splits = sorted(os.listdir('./all_border_dataset_2000_annotations_split'), reverse=True)\n",
    "splits"
   ]
  },
  {
   "cell_type": "code",
   "execution_count": 101,
   "id": "8c7f84ad",
   "metadata": {},
   "outputs": [
    {
     "data": {
      "text/plain": [
       "239"
      ]
     },
     "execution_count": 101,
     "metadata": {},
     "output_type": "execute_result"
    }
   ],
   "source": [
    "split = 'experiment'\n",
    "files = sorted(os.listdir(f'./all_border_dataset_2000_annotations_split/{split}'), reverse=True)\n",
    "len(files)"
   ]
  },
  {
   "cell_type": "code",
   "execution_count": 102,
   "id": "9225b5b9",
   "metadata": {},
   "outputs": [
    {
     "data": {
      "text/plain": [
       "19"
      ]
     },
     "execution_count": 102,
     "metadata": {},
     "output_type": "execute_result"
    }
   ],
   "source": [
    "annotated_files = [f'./all_border_dataset_2000_annotations_split/{split}/{f[:-4]}' for f in files if f[-4:] == '.xml']\n",
    "len(annotated_files)"
   ]
  },
  {
   "cell_type": "code",
   "execution_count": 103,
   "id": "57ae4e8b",
   "metadata": {},
   "outputs": [],
   "source": [
    "info_dict = extract_info_from_xml(f'{annotated_files[0]}.xml')"
   ]
  },
  {
   "cell_type": "code",
   "execution_count": 104,
   "id": "15af4d40",
   "metadata": {},
   "outputs": [
    {
     "data": {
      "text/plain": [
       "{'bboxes': [{'class': 'border', 'xmin': 0, 'ymin': 0, 'xmax': 33, 'ymax': 19},\n",
       "  {'class': 'border', 'xmin': 372, 'ymin': 0, 'xmax': 400, 'ymax': 16}],\n",
       " 'filename': 'border_Img_000354.jpg',\n",
       " 'image_size': (400, 514, 3)}"
      ]
     },
     "execution_count": 104,
     "metadata": {},
     "output_type": "execute_result"
    }
   ],
   "source": [
    "info_dict"
   ]
  },
  {
   "cell_type": "code",
   "execution_count": 105,
   "id": "e3ba78bd",
   "metadata": {
    "scrolled": false
   },
   "outputs": [
    {
     "name": "stdout",
     "output_type": "stream",
     "text": [
      "./all_border_dataset_2000_annotations_split/experiment/border_Img_000354.txt\n"
     ]
    }
   ],
   "source": [
    "convert_to_yolov5(info_dict)"
   ]
  },
  {
   "cell_type": "code",
   "execution_count": 106,
   "id": "62af8e4b",
   "metadata": {},
   "outputs": [
    {
     "name": "stdout",
     "output_type": "stream",
     "text": [
      "./all_border_dataset_2000_annotations_split/val/border_Img_000529.txt\n",
      "./all_border_dataset_2000_annotations_split/val/border_Img_000528.txt\n",
      "./all_border_dataset_2000_annotations_split/val/border_Img_000525.txt\n",
      "./all_border_dataset_2000_annotations_split/val/border_Img_000520.txt\n",
      "./all_border_dataset_2000_annotations_split/val/border_Img_000515.txt\n",
      "./all_border_dataset_2000_annotations_split/val/border_Img_000496.txt\n",
      "./all_border_dataset_2000_annotations_split/val/border_Img_000492.txt\n",
      "./all_border_dataset_2000_annotations_split/val/border_Img_000468.txt\n",
      "./all_border_dataset_2000_annotations_split/val/border_Img_000446.txt\n",
      "./all_border_dataset_2000_annotations_split/val/border_Img_000422.txt\n",
      "./all_border_dataset_2000_annotations_split/val/border_Img_000420.txt\n",
      "./all_border_dataset_2000_annotations_split/val/border_Img_000419.txt\n",
      "./all_border_dataset_2000_annotations_split/val/border_Img_000410.txt\n",
      "./all_border_dataset_2000_annotations_split/val/border_Img_000395.txt\n",
      "./all_border_dataset_2000_annotations_split/val/border_Img_000370.txt\n",
      "./all_border_dataset_2000_annotations_split/val/border_Img_000368.txt\n",
      "./all_border_dataset_2000_annotations_split/val/border_Img_000356.txt\n",
      "./all_border_dataset_2000_annotations_split/val/border_Img_000355.txt\n",
      "./all_border_dataset_2000_annotations_split/train/border_Img_001998.txt\n",
      "./all_border_dataset_2000_annotations_split/train/border_Img_001994.txt\n",
      "./all_border_dataset_2000_annotations_split/train/border_Img_001993.txt\n",
      "./all_border_dataset_2000_annotations_split/train/border_Img_001986.txt\n",
      "./all_border_dataset_2000_annotations_split/train/border_Img_001985.txt\n",
      "./all_border_dataset_2000_annotations_split/train/border_Img_001984.txt\n",
      "./all_border_dataset_2000_annotations_split/train/border_Img_001980.txt\n",
      "./all_border_dataset_2000_annotations_split/train/border_Img_001972.txt\n",
      "./all_border_dataset_2000_annotations_split/train/border_Img_001970.txt\n",
      "./all_border_dataset_2000_annotations_split/train/border_Img_001964.txt\n",
      "./all_border_dataset_2000_annotations_split/train/border_Img_001956.txt\n",
      "./all_border_dataset_2000_annotations_split/train/border_Img_001953.txt\n",
      "./all_border_dataset_2000_annotations_split/train/border_Img_001952.txt\n",
      "./all_border_dataset_2000_annotations_split/train/border_Img_001942.txt\n",
      "./all_border_dataset_2000_annotations_split/train/border_Img_001941.txt\n",
      "./all_border_dataset_2000_annotations_split/train/border_Img_001935.txt\n",
      "./all_border_dataset_2000_annotations_split/train/border_Img_001923.txt\n",
      "./all_border_dataset_2000_annotations_split/train/border_Img_001922.txt\n",
      "./all_border_dataset_2000_annotations_split/train/border_Img_001921.txt\n",
      "./all_border_dataset_2000_annotations_split/train/border_Img_001910.txt\n",
      "./all_border_dataset_2000_annotations_split/train/border_Img_001909.txt\n",
      "./all_border_dataset_2000_annotations_split/train/border_Img_001907.txt\n",
      "./all_border_dataset_2000_annotations_split/train/border_Img_001900.txt\n",
      "./all_border_dataset_2000_annotations_split/train/border_Img_001896.txt\n",
      "./all_border_dataset_2000_annotations_split/train/border_Img_001894.txt\n",
      "./all_border_dataset_2000_annotations_split/train/border_Img_001888.txt\n",
      "./all_border_dataset_2000_annotations_split/train/border_Img_001880.txt\n",
      "./all_border_dataset_2000_annotations_split/train/border_Img_001873.txt\n",
      "./all_border_dataset_2000_annotations_split/train/border_Img_001862.txt\n",
      "./all_border_dataset_2000_annotations_split/train/border_Img_001856.txt\n",
      "./all_border_dataset_2000_annotations_split/train/border_Img_001855.txt\n",
      "./all_border_dataset_2000_annotations_split/train/border_Img_001851.txt\n",
      "./all_border_dataset_2000_annotations_split/train/border_Img_001845.txt\n",
      "./all_border_dataset_2000_annotations_split/train/border_Img_001843.txt\n",
      "./all_border_dataset_2000_annotations_split/train/border_Img_001840.txt\n",
      "./all_border_dataset_2000_annotations_split/train/border_Img_001812.txt\n",
      "./all_border_dataset_2000_annotations_split/train/border_Img_001795.txt\n",
      "./all_border_dataset_2000_annotations_split/train/border_Img_001773.txt\n",
      "./all_border_dataset_2000_annotations_split/train/border_Img_001770.txt\n",
      "./all_border_dataset_2000_annotations_split/train/border_Img_001765.txt\n",
      "./all_border_dataset_2000_annotations_split/train/border_Img_001763.txt\n",
      "./all_border_dataset_2000_annotations_split/train/border_Img_001731.txt\n",
      "./all_border_dataset_2000_annotations_split/train/border_Img_001727.txt\n",
      "./all_border_dataset_2000_annotations_split/train/border_Img_001723.txt\n",
      "./all_border_dataset_2000_annotations_split/train/border_Img_001700.txt\n",
      "./all_border_dataset_2000_annotations_split/train/border_Img_001658.txt\n",
      "./all_border_dataset_2000_annotations_split/train/border_Img_001645.txt\n",
      "./all_border_dataset_2000_annotations_split/train/border_Img_001644.txt\n",
      "./all_border_dataset_2000_annotations_split/train/border_Img_001642.txt\n",
      "./all_border_dataset_2000_annotations_split/train/border_Img_001639.txt\n",
      "./all_border_dataset_2000_annotations_split/train/border_Img_001630.txt\n",
      "./all_border_dataset_2000_annotations_split/train/border_Img_001626.txt\n",
      "./all_border_dataset_2000_annotations_split/train/border_Img_001616.txt\n",
      "./all_border_dataset_2000_annotations_split/train/border_Img_001615.txt\n",
      "./all_border_dataset_2000_annotations_split/train/border_Img_001611.txt\n",
      "./all_border_dataset_2000_annotations_split/train/border_Img_001609.txt\n",
      "./all_border_dataset_2000_annotations_split/train/border_Img_001604.txt\n",
      "./all_border_dataset_2000_annotations_split/train/border_Img_001602.txt\n",
      "./all_border_dataset_2000_annotations_split/train/border_Img_001601.txt\n",
      "./all_border_dataset_2000_annotations_split/train/border_Img_001593.txt\n",
      "./all_border_dataset_2000_annotations_split/train/border_Img_001587.txt\n",
      "./all_border_dataset_2000_annotations_split/train/border_Img_001585.txt\n",
      "./all_border_dataset_2000_annotations_split/train/border_Img_001584.txt\n",
      "./all_border_dataset_2000_annotations_split/train/border_Img_001583.txt\n",
      "./all_border_dataset_2000_annotations_split/train/border_Img_001581.txt\n",
      "./all_border_dataset_2000_annotations_split/train/border_Img_001577.txt\n",
      "./all_border_dataset_2000_annotations_split/train/border_Img_001560.txt\n",
      "./all_border_dataset_2000_annotations_split/train/border_Img_001558.txt\n",
      "./all_border_dataset_2000_annotations_split/train/border_Img_001556.txt\n",
      "./all_border_dataset_2000_annotations_split/train/border_Img_001549.txt\n",
      "./all_border_dataset_2000_annotations_split/train/border_Img_001542.txt\n",
      "./all_border_dataset_2000_annotations_split/train/border_Img_001538.txt\n",
      "./all_border_dataset_2000_annotations_split/train/border_Img_001533.txt\n",
      "./all_border_dataset_2000_annotations_split/train/border_Img_001532.txt\n",
      "./all_border_dataset_2000_annotations_split/train/border_Img_001531.txt\n",
      "./all_border_dataset_2000_annotations_split/train/border_Img_001519.txt\n",
      "./all_border_dataset_2000_annotations_split/train/border_Img_001516.txt\n",
      "./all_border_dataset_2000_annotations_split/train/border_Img_001406.txt\n",
      "./all_border_dataset_2000_annotations_split/train/border_Img_001352.txt\n",
      "./all_border_dataset_2000_annotations_split/train/border_Img_001346.txt\n",
      "./all_border_dataset_2000_annotations_split/train/border_Img_001304.txt\n",
      "./all_border_dataset_2000_annotations_split/train/border_Img_001227.txt\n",
      "./all_border_dataset_2000_annotations_split/train/border_Img_001221.txt\n",
      "./all_border_dataset_2000_annotations_split/train/border_Img_001176.txt\n",
      "./all_border_dataset_2000_annotations_split/train/border_Img_001168.txt\n",
      "./all_border_dataset_2000_annotations_split/train/border_Img_001163.txt\n",
      "./all_border_dataset_2000_annotations_split/train/border_Img_001161.txt\n",
      "./all_border_dataset_2000_annotations_split/train/border_Img_001157.txt\n",
      "./all_border_dataset_2000_annotations_split/train/border_Img_001154.txt\n",
      "./all_border_dataset_2000_annotations_split/train/border_Img_001149.txt\n",
      "./all_border_dataset_2000_annotations_split/train/border_Img_001144.txt\n",
      "./all_border_dataset_2000_annotations_split/train/border_Img_001135.txt\n",
      "./all_border_dataset_2000_annotations_split/train/border_Img_001129.txt\n",
      "./all_border_dataset_2000_annotations_split/train/border_Img_001125.txt\n",
      "./all_border_dataset_2000_annotations_split/train/border_Img_001120.txt\n",
      "./all_border_dataset_2000_annotations_split/train/border_Img_001115.txt\n",
      "./all_border_dataset_2000_annotations_split/train/border_Img_001110.txt\n",
      "./all_border_dataset_2000_annotations_split/train/border_Img_001099.txt\n",
      "./all_border_dataset_2000_annotations_split/train/border_Img_001092.txt\n",
      "./all_border_dataset_2000_annotations_split/train/border_Img_001090.txt\n",
      "./all_border_dataset_2000_annotations_split/train/border_Img_001083.txt\n",
      "./all_border_dataset_2000_annotations_split/train/border_Img_001074.txt\n",
      "./all_border_dataset_2000_annotations_split/train/border_Img_001069.txt\n",
      "./all_border_dataset_2000_annotations_split/train/border_Img_001058.txt\n",
      "./all_border_dataset_2000_annotations_split/train/border_Img_001044.txt\n",
      "./all_border_dataset_2000_annotations_split/train/border_Img_001016.txt\n",
      "./all_border_dataset_2000_annotations_split/train/border_Img_001004.txt\n",
      "./all_border_dataset_2000_annotations_split/train/border_Img_000981.txt\n",
      "./all_border_dataset_2000_annotations_split/train/border_Img_000956.txt\n",
      "./all_border_dataset_2000_annotations_split/train/border_Img_000936.txt\n",
      "./all_border_dataset_2000_annotations_split/train/border_Img_000935.txt\n",
      "./all_border_dataset_2000_annotations_split/train/border_Img_000927.txt\n",
      "./all_border_dataset_2000_annotations_split/train/border_Img_000916.txt\n",
      "./all_border_dataset_2000_annotations_split/train/border_Img_000899.txt\n",
      "./all_border_dataset_2000_annotations_split/train/border_Img_000866.txt\n",
      "./all_border_dataset_2000_annotations_split/train/border_Img_000864.txt\n",
      "./all_border_dataset_2000_annotations_split/train/border_Img_000863.txt\n",
      "./all_border_dataset_2000_annotations_split/train/border_Img_000858.txt\n",
      "./all_border_dataset_2000_annotations_split/train/border_Img_000851.txt\n",
      "./all_border_dataset_2000_annotations_split/train/border_Img_000849.txt\n",
      "./all_border_dataset_2000_annotations_split/train/border_Img_000844.txt\n",
      "./all_border_dataset_2000_annotations_split/train/border_Img_000836.txt\n",
      "./all_border_dataset_2000_annotations_split/train/border_Img_000824.txt\n",
      "./all_border_dataset_2000_annotations_split/train/border_Img_000815.txt\n",
      "./all_border_dataset_2000_annotations_split/train/border_Img_000807.txt\n",
      "./all_border_dataset_2000_annotations_split/train/border_Img_000805.txt\n",
      "./all_border_dataset_2000_annotations_split/train/border_Img_000800.txt\n",
      "./all_border_dataset_2000_annotations_split/train/border_Img_000798.txt\n",
      "./all_border_dataset_2000_annotations_split/train/border_Img_000757.txt\n",
      "./all_border_dataset_2000_annotations_split/train/border_Img_000748.txt\n",
      "./all_border_dataset_2000_annotations_split/train/border_Img_000731.txt\n",
      "./all_border_dataset_2000_annotations_split/train/border_Img_000701.txt\n",
      "./all_border_dataset_2000_annotations_split/train/border_Img_000697.txt\n",
      "./all_border_dataset_2000_annotations_split/train/border_Img_000693.txt\n",
      "./all_border_dataset_2000_annotations_split/train/border_Img_000687.txt\n",
      "./all_border_dataset_2000_annotations_split/train/border_Img_000681.txt\n",
      "./all_border_dataset_2000_annotations_split/train/border_Img_000676.txt\n",
      "./all_border_dataset_2000_annotations_split/train/border_Img_000667.txt\n",
      "./all_border_dataset_2000_annotations_split/train/border_Img_000662.txt\n",
      "./all_border_dataset_2000_annotations_split/train/border_Img_000595.txt\n",
      "./all_border_dataset_2000_annotations_split/train/border_Img_000587.txt\n",
      "./all_border_dataset_2000_annotations_split/train/border_Img_000571.txt\n",
      "./all_border_dataset_2000_annotations_split/train/border_Img_000556.txt\n",
      "./all_border_dataset_2000_annotations_split/train/border_Img_000551.txt\n",
      "./all_border_dataset_2000_annotations_split/train/border_Img_000550.txt\n",
      "./all_border_dataset_2000_annotations_split/train/border_Img_000539.txt\n",
      "./all_border_dataset_2000_annotations_split/test/border_Img_000354.txt\n",
      "./all_border_dataset_2000_annotations_split/test/border_Img_000353.txt\n",
      "./all_border_dataset_2000_annotations_split/test/border_Img_000351.txt\n",
      "./all_border_dataset_2000_annotations_split/test/border_Img_000343.txt\n",
      "./all_border_dataset_2000_annotations_split/test/border_Img_000337.txt\n",
      "./all_border_dataset_2000_annotations_split/test/border_Img_000327.txt\n",
      "./all_border_dataset_2000_annotations_split/test/border_Img_000317.txt\n",
      "./all_border_dataset_2000_annotations_split/test/border_Img_000315.txt\n",
      "./all_border_dataset_2000_annotations_split/test/border_Img_000314.txt\n",
      "./all_border_dataset_2000_annotations_split/test/border_Img_000312.txt\n",
      "./all_border_dataset_2000_annotations_split/test/border_Img_000311.txt\n",
      "./all_border_dataset_2000_annotations_split/test/border_Img_000310.txt\n",
      "./all_border_dataset_2000_annotations_split/test/border_Img_000302.txt\n",
      "./all_border_dataset_2000_annotations_split/test/border_Img_000292.txt\n",
      "./all_border_dataset_2000_annotations_split/test/border_Img_000278.txt\n",
      "./all_border_dataset_2000_annotations_split/test/border_Img_000275.txt\n",
      "./all_border_dataset_2000_annotations_split/test/border_Img_000273.txt\n",
      "./all_border_dataset_2000_annotations_split/test/border_Img_000268.txt\n",
      "./all_border_dataset_2000_annotations_split/test/border_Img_000244.txt\n",
      "./all_border_dataset_2000_annotations_split/experiment/border_Img_000354.txt\n",
      "./all_border_dataset_2000_annotations_split/experiment/border_Img_000353.txt\n",
      "./all_border_dataset_2000_annotations_split/experiment/border_Img_000351.txt\n",
      "./all_border_dataset_2000_annotations_split/experiment/border_Img_000343.txt\n",
      "./all_border_dataset_2000_annotations_split/experiment/border_Img_000337.txt\n",
      "./all_border_dataset_2000_annotations_split/experiment/border_Img_000327.txt\n",
      "./all_border_dataset_2000_annotations_split/experiment/border_Img_000317.txt\n",
      "./all_border_dataset_2000_annotations_split/experiment/border_Img_000315.txt\n",
      "./all_border_dataset_2000_annotations_split/experiment/border_Img_000314.txt\n",
      "./all_border_dataset_2000_annotations_split/experiment/border_Img_000312.txt\n",
      "./all_border_dataset_2000_annotations_split/experiment/border_Img_000311.txt\n",
      "./all_border_dataset_2000_annotations_split/experiment/border_Img_000310.txt\n",
      "./all_border_dataset_2000_annotations_split/experiment/border_Img_000302.txt\n",
      "./all_border_dataset_2000_annotations_split/experiment/border_Img_000292.txt\n",
      "./all_border_dataset_2000_annotations_split/experiment/border_Img_000278.txt\n",
      "./all_border_dataset_2000_annotations_split/experiment/border_Img_000275.txt\n",
      "./all_border_dataset_2000_annotations_split/experiment/border_Img_000273.txt\n",
      "./all_border_dataset_2000_annotations_split/experiment/border_Img_000268.txt\n",
      "./all_border_dataset_2000_annotations_split/experiment/border_Img_000244.txt\n"
     ]
    }
   ],
   "source": [
    "for split in splits:\n",
    "    files = sorted(os.listdir(f'./all_border_dataset_2000_annotations_split/{split}'), reverse=True)\n",
    "    annotated_files = [f'./all_border_dataset_2000_annotations_split/{split}/{f[:-4]}' for f in files if f[-4:] == '.xml']\n",
    "    \n",
    "    for annotated_file in annotated_files:\n",
    "        info_dict = extract_info_from_xml(f'{annotated_file}.xml')\n",
    "        convert_to_yolov5(info_dict)"
   ]
  },
  {
   "cell_type": "code",
   "execution_count": null,
   "id": "08fdd1fd",
   "metadata": {},
   "outputs": [],
   "source": []
  },
  {
   "cell_type": "markdown",
   "id": "da61de59",
   "metadata": {},
   "source": [
    "## Sanity check"
   ]
  },
  {
   "cell_type": "code",
   "execution_count": 78,
   "id": "8b783329",
   "metadata": {},
   "outputs": [
    {
     "name": "stdout",
     "output_type": "stream",
     "text": [
      "[[0.0, 0.041, 0.018, 0.083, 0.037], [0.0, 0.965, 0.016, 0.07, 0.031]]\n",
      "[ 0.    -0.2   -0.257 33.    18.761]\n",
      "[0.0000e+00 3.7200e+02 2.5700e-01 4.0000e+02 1.6191e+01]\n"
     ]
    },
    {
     "data": {
      "image/png": "[encoded data removed]",
      "text/plain": [
       "<Figure size 432x288 with 1 Axes>"
      ]
     },
     "metadata": {
      "needs_background": "light"
     },
     "output_type": "display_data"
    }
   ],
   "source": [
    "from PIL import Image, ImageDraw\n",
    "import numpy as np\n",
    "import matplotlib.pyplot as plt\n",
    "\n",
    "class_id_to_name_mapping = dict(zip(class_name_to_id_mapping.values(), class_name_to_id_mapping.keys()))\n",
    "\n",
    "def plot_bounding_box(image, annotation_list):\n",
    "    annotations = np.array(annotation_list)\n",
    "    w, h = image.size\n",
    "    \n",
    "    plotted_image = ImageDraw.Draw(image)\n",
    "\n",
    "    transformed_annotations = np.copy(annotations)\n",
    "    transformed_annotations[:,[1,3]] = annotations[:,[1,3]] * w\n",
    "    transformed_annotations[:,[2,4]] = annotations[:,[2,4]] * h \n",
    "    \n",
    "    transformed_annotations[:,1] = transformed_annotations[:,1] - (transformed_annotations[:,3] / 2)\n",
    "    transformed_annotations[:,2] = transformed_annotations[:,2] - (transformed_annotations[:,4] / 2)\n",
    "    transformed_annotations[:,3] = transformed_annotations[:,1] + transformed_annotations[:,3]\n",
    "    transformed_annotations[:,4] = transformed_annotations[:,2] + transformed_annotations[:,4]\n",
    "    \n",
    "    for ann in transformed_annotations:\n",
    "        print(ann)\n",
    "        obj_cls, x0, y0, x1, y1 = ann\n",
    "        plotted_image.rectangle(((x0,y0), (x1,y1)), outline =\"red\")\n",
    "        \n",
    "        plotted_image.text((x0, y0 - 10), class_id_to_name_mapping[(int(obj_cls))])\n",
    "    \n",
    "    plt.imshow(np.array(image))\n",
    "    plt.show()\n",
    "\n",
    "# Get any random annotation file \n",
    "annotation_file = f'{annotated_files[0]}.txt'\n",
    "with open(annotation_file, \"r\") as file:\n",
    "    annotation_list = file.read().split(\"\\n\")[:-1]\n",
    "    annotation_list = [x.split(\" \") for x in annotation_list]\n",
    "    annotation_list = [[float(y) for y in x ] for x in annotation_list]\n",
    "\n",
    "#Get the corresponding image file\n",
    "image_file = annotation_file.replace(\"txt\", \"jpg\")\n",
    "assert os.path.exists(image_file)\n",
    "\n",
    "#Load the image\n",
    "image = Image.open(image_file)\n",
    "\n",
    "print(annotation_list)\n",
    "\n",
    "#Plot the Bounding Box\n",
    "plot_bounding_box(image, annotation_list)"
   ]
  },
  {
   "cell_type": "code",
   "execution_count": null,
   "id": "af11d6fc",
   "metadata": {},
   "outputs": [],
   "source": []
  },
  {
   "cell_type": "code",
   "execution_count": null,
   "id": "119d330c",
   "metadata": {},
   "outputs": [],
   "source": []
  }
 ],
 "metadata": {
  "kernelspec": {
   "display_name": "temp",
   "language": "python",
   "name": "temp"
  },
  "language_info": {
   "codemirror_mode": {
    "name": "ipython",
    "version": 3
   },
   "file_extension": ".py",
   "mimetype": "text/x-python",
   "name": "python",
   "nbconvert_exporter": "python",
   "pygments_lexer": "ipython3",
   "version": "3.8.10"
  }
 },
 "nbformat": 4,
 "nbformat_minor": 5
}

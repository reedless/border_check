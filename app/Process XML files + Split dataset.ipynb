{
 "cells": [
  {
   "cell_type": "markdown",
   "id": "94d4c98a",
   "metadata": {},
   "source": [
    "## Get filenames"
   ]
  },
  {
   "cell_type": "code",
   "execution_count": 1,
   "id": "df8cd524",
   "metadata": {},
   "outputs": [
    {
     "data": {
      "text/plain": [
       "2185"
      ]
     },
     "execution_count": 1,
     "metadata": {},
     "output_type": "execute_result"
    }
   ],
   "source": [
    "import os\n",
    "\n",
    "files = sorted(os.listdir('./all_border_dataset_2000_annotations'), reverse=True)\n",
    "len(files)"
   ]
  },
  {
   "cell_type": "code",
   "execution_count": 7,
   "id": "c78311fe",
   "metadata": {},
   "outputs": [
    {
     "data": {
      "text/plain": [
       "183"
      ]
     },
     "execution_count": 7,
     "metadata": {},
     "output_type": "execute_result"
    }
   ],
   "source": [
    "XML_files = [f'./all_border_dataset_2000_annotations/{f}' for f in files if f[-4:] == '.xml']\n",
    "len(XML_files)"
   ]
  },
  {
   "cell_type": "code",
   "execution_count": 33,
   "id": "0df0a987",
   "metadata": {},
   "outputs": [],
   "source": [
    "import xml.etree.ElementTree as ET\n",
    "\n",
    "for file in XML_files:\n",
    "    tree = ET.parse(file)\n",
    "    root = tree.getroot()\n",
    "\n",
    "    for bndbox in root.findall('./object/bndbox'):\n",
    "        xmin = bndbox[0]\n",
    "        ymin = bndbox[1]\n",
    "        xmax = bndbox[2]\n",
    "        ymax = bndbox[3]\n",
    "        if int(xmin.text) >= int(xmax.text):\n",
    "            xmax.text = str(int(xmin.text) + 0.1)\n",
    "        if int(ymin.text) >= int(ymax.text):\n",
    "            ymax.text = str(int(ymin.text) + 0.1)\n",
    "\n",
    "    tree.write(file)"
   ]
  },
  {
   "cell_type": "markdown",
   "id": "6ca6d364",
   "metadata": {},
   "source": [
    "## Split into border and negative"
   ]
  },
  {
   "cell_type": "code",
   "execution_count": 34,
   "id": "83657791",
   "metadata": {},
   "outputs": [
    {
     "data": {
      "text/plain": [
       "183"
      ]
     },
     "execution_count": 34,
     "metadata": {},
     "output_type": "execute_result"
    }
   ],
   "source": [
    "border_filenames = [f[:-4] for f in files if f[-4:] == '.xml']\n",
    "len(border_filenames)"
   ]
  },
  {
   "cell_type": "code",
   "execution_count": 35,
   "id": "314bae64",
   "metadata": {},
   "outputs": [
    {
     "data": {
      "text/plain": [
       "1819"
      ]
     },
     "execution_count": 35,
     "metadata": {},
     "output_type": "execute_result"
    }
   ],
   "source": [
    "negative_filenames = [f[:-4] for f in files if f[:-4] not in border_filenames]\n",
    "len(negative_filenames)"
   ]
  },
  {
   "cell_type": "code",
   "execution_count": 36,
   "id": "1b8cecdb",
   "metadata": {
    "scrolled": true
   },
   "outputs": [
    {
     "data": {
      "text/plain": [
       "2185"
      ]
     },
     "execution_count": 36,
     "metadata": {},
     "output_type": "execute_result"
    }
   ],
   "source": [
    "# sanity check\n",
    "len(negative_filenames) + 2*len(border_filenames)"
   ]
  },
  {
   "cell_type": "markdown",
   "id": "6da87348",
   "metadata": {},
   "source": [
    "## Split border and negative into train-val-test"
   ]
  },
  {
   "cell_type": "code",
   "execution_count": 37,
   "id": "de56c18c",
   "metadata": {},
   "outputs": [],
   "source": [
    "train, val, test = 0.8, 0.1, 0.1"
   ]
  },
  {
   "cell_type": "code",
   "execution_count": 38,
   "id": "75d1c5e5",
   "metadata": {},
   "outputs": [],
   "source": [
    "import numpy as np\n",
    "\n",
    "border_splits = np.split(border_filenames, [int(train*len(border_filenames)), int((train+val)*len(border_filenames))])\n",
    "negative_splits = np.split(negative_filenames, [int(train*len(negative_filenames)), int((train+val)*len(negative_filenames))])\n",
    "splits = ['train', 'val', 'test']"
   ]
  },
  {
   "cell_type": "code",
   "execution_count": 39,
   "id": "34012ca2",
   "metadata": {},
   "outputs": [
    {
     "data": {
      "text/plain": [
       "array(['Img_002002', 'Img_002001', 'Img_002000', ..., 'Img_000390',\n",
       "       'Img_000389', 'Img_000388'], dtype='<U10')"
      ]
     },
     "execution_count": 39,
     "metadata": {},
     "output_type": "execute_result"
    }
   ],
   "source": [
    "negative_splits[0]"
   ]
  },
  {
   "cell_type": "code",
   "execution_count": 40,
   "id": "4af43fbc",
   "metadata": {},
   "outputs": [],
   "source": [
    "import shutil\n",
    "for i in range(len(splits)):\n",
    "    data_dir = './all_border_dataset_2000_annotations'\n",
    "    save_dir = f'./all_border_dataset_2000_annotations_split/{splits[i]}'\n",
    "    \n",
    "    for filename in negative_splits[i]:\n",
    "        shutil.copy(f'{data_dir}/{filename}.jpg', f'{save_dir}/{filename}.jpg')\n",
    "        \n",
    "    for filename in border_splits[i]:\n",
    "        shutil.copy(f'{data_dir}/{filename}.jpg', f'{save_dir}/{filename}.jpg')\n",
    "        shutil.copy(f'{data_dir}/{filename}.xml', f'{save_dir}/{filename}.xml')"
   ]
  },
  {
   "cell_type": "code",
   "execution_count": 41,
   "id": "0ae06ab1",
   "metadata": {},
   "outputs": [
    {
     "name": "stdout",
     "output_type": "stream",
     "text": [
      "train: 1747\n",
      "val: 218\n",
      "test: 220\n"
     ]
    }
   ],
   "source": [
    "for i in range(len(splits)):\n",
    "    save_dir = f'./all_border_dataset_2000_annotations_split/{splits[i]}'\n",
    "    print(f'{splits[i]}: {len(os.listdir(save_dir))}')"
   ]
  },
  {
   "cell_type": "code",
   "execution_count": 42,
   "id": "fc8cfe92",
   "metadata": {},
   "outputs": [
    {
     "data": {
      "text/plain": [
       "2185"
      ]
     },
     "execution_count": 42,
     "metadata": {},
     "output_type": "execute_result"
    }
   ],
   "source": [
    "1747+218+220"
   ]
  },
  {
   "cell_type": "code",
   "execution_count": null,
   "id": "b72f6786",
   "metadata": {},
   "outputs": [],
   "source": []
  },
  {
   "cell_type": "code",
   "execution_count": null,
   "id": "ab6568ca",
   "metadata": {},
   "outputs": [],
   "source": []
  },
  {
   "cell_type": "code",
   "execution_count": null,
   "id": "6f657842",
   "metadata": {},
   "outputs": [],
   "source": []
  },
  {
   "cell_type": "code",
   "execution_count": null,
   "id": "771d141a",
   "metadata": {},
   "outputs": [],
   "source": []
  },
  {
   "cell_type": "code",
   "execution_count": null,
   "id": "7aa4b14d",
   "metadata": {},
   "outputs": [],
   "source": []
  },
  {
   "cell_type": "code",
   "execution_count": null,
   "id": "2660fe79",
   "metadata": {},
   "outputs": [],
   "source": []
  }
 ],
 "metadata": {
  "kernelspec": {
   "display_name": "Mask-RCNN",
   "language": "python",
   "name": "mask-rcnn"
  },
  "language_info": {
   "codemirror_mode": {
    "name": "ipython",
    "version": 3
   },
   "file_extension": ".py",
   "mimetype": "text/x-python",
   "name": "python",
   "nbconvert_exporter": "python",
   "pygments_lexer": "ipython3",
   "version": "3.8.10"
  }
 },
 "nbformat": 4,
 "nbformat_minor": 5
}
